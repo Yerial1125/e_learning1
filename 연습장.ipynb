{
 "cells": [
  {
   "cell_type": "code",
   "execution_count": 1,
   "id": "cdd45075",
   "metadata": {},
   "outputs": [],
   "source": [
    "import pandas as pd"
   ]
  },
  {
   "cell_type": "code",
   "execution_count": 4,
   "id": "e0261d5a",
   "metadata": {},
   "outputs": [],
   "source": [
    "bike_data = pd.read_csv('data/bike_usage_0.csv', encoding='ANSI')"
   ]
  },
  {
   "cell_type": "code",
   "execution_count": 5,
   "id": "92c2a087",
   "metadata": {},
   "outputs": [
    {
     "data": {
      "text/plain": [
       "pandas.core.frame.DataFrame"
      ]
     },
     "execution_count": 5,
     "metadata": {},
     "output_type": "execute_result"
    }
   ],
   "source": [
    "type(bike_data)"
   ]
  },
  {
   "cell_type": "markdown",
   "id": "5bf460d9",
   "metadata": {},
   "source": [
    "끝에 괄호가 붙지 않는 것 : 속성(Attribute)\n",
    "데이터 타입에 내장되어 있는 함수 (끝에 괄호가 붙는 것) : 메소드(method)"
   ]
  },
  {
   "cell_type": "code",
   "execution_count": 6,
   "id": "2e38805f",
   "metadata": {
    "scrolled": true
   },
   "outputs": [
    {
     "data": {
      "text/plain": [
       "Index(['Date_out', 'Time_out', 'Station_no_out', 'Station_out',\n",
       "       'Membership_type', 'Gender', 'Age_Group', 'Momentum', 'Station_no_in',\n",
       "       'Station_in', 'Date_in', 'Bike_no', 'Carbon_amount', 'Distance',\n",
       "       'Duration'],\n",
       "      dtype='object')"
      ]
     },
     "execution_count": 6,
     "metadata": {},
     "output_type": "execute_result"
    }
   ],
   "source": [
    "bike_data.columns"
   ]
  },
  {
   "cell_type": "code",
   "execution_count": 8,
   "id": "2ad64adf",
   "metadata": {},
   "outputs": [
    {
     "data": {
      "text/html": [
       "<div>\n",
       "<style scoped>\n",
       "    .dataframe tbody tr th:only-of-type {\n",
       "        vertical-align: middle;\n",
       "    }\n",
       "\n",
       "    .dataframe tbody tr th {\n",
       "        vertical-align: top;\n",
       "    }\n",
       "\n",
       "    .dataframe thead th {\n",
       "        text-align: right;\n",
       "    }\n",
       "</style>\n",
       "<table border=\"1\" class=\"dataframe\">\n",
       "  <thead>\n",
       "    <tr style=\"text-align: right;\">\n",
       "      <th></th>\n",
       "      <th>Date_out</th>\n",
       "      <th>Time_out</th>\n",
       "      <th>Station_no_out</th>\n",
       "      <th>Station_out</th>\n",
       "      <th>Membership_type</th>\n",
       "      <th>Gender</th>\n",
       "      <th>Age_Group</th>\n",
       "      <th>Momentum</th>\n",
       "      <th>Station_no_in</th>\n",
       "      <th>Station_in</th>\n",
       "      <th>Date_in</th>\n",
       "      <th>Bike_no</th>\n",
       "      <th>Carbon_amount</th>\n",
       "      <th>Distance</th>\n",
       "      <th>Duration</th>\n",
       "    </tr>\n",
       "  </thead>\n",
       "  <tbody>\n",
       "    <tr>\n",
       "      <th>0</th>\n",
       "      <td>2019-10-03</td>\n",
       "      <td>0</td>\n",
       "      <td>129</td>\n",
       "      <td>129. 신촌역(2호선) 6번출구 옆</td>\n",
       "      <td>정기권</td>\n",
       "      <td>NaN</td>\n",
       "      <td>~10대</td>\n",
       "      <td>28.27</td>\n",
       "      <td>122</td>\n",
       "      <td>신성기사식당 앞</td>\n",
       "      <td>2019-10-03 오전 12:20:42</td>\n",
       "      <td>SPB-15000</td>\n",
       "      <td>0.24</td>\n",
       "      <td>1050</td>\n",
       "      <td>5</td>\n",
       "    </tr>\n",
       "    <tr>\n",
       "      <th>1</th>\n",
       "      <td>2019-10-03</td>\n",
       "      <td>0</td>\n",
       "      <td>150</td>\n",
       "      <td>150. 서강대역 2번출구 앞</td>\n",
       "      <td>정기권</td>\n",
       "      <td>NaN</td>\n",
       "      <td>20대</td>\n",
       "      <td>146.46</td>\n",
       "      <td>2065</td>\n",
       "      <td>서울시여성가족재단</td>\n",
       "      <td>2019-10-03 오전 1:16:32</td>\n",
       "      <td>SPB-13087</td>\n",
       "      <td>1.32</td>\n",
       "      <td>5690</td>\n",
       "      <td>32</td>\n",
       "    </tr>\n",
       "    <tr>\n",
       "      <th>2</th>\n",
       "      <td>2019-10-03</td>\n",
       "      <td>0</td>\n",
       "      <td>240</td>\n",
       "      <td>240. 문래역 4번출구 앞</td>\n",
       "      <td>정기권</td>\n",
       "      <td>NaN</td>\n",
       "      <td>20대</td>\n",
       "      <td>37.13</td>\n",
       "      <td>245</td>\n",
       "      <td>삼성생명 당산사옥 앞</td>\n",
       "      <td>2019-10-03 오전 12:18:21</td>\n",
       "      <td>SPB-23229</td>\n",
       "      <td>0.29</td>\n",
       "      <td>1250</td>\n",
       "      <td>10</td>\n",
       "    </tr>\n",
       "    <tr>\n",
       "      <th>3</th>\n",
       "      <td>2019-10-03</td>\n",
       "      <td>0</td>\n",
       "      <td>623</td>\n",
       "      <td>623. 서울시립대 정문 앞</td>\n",
       "      <td>정기권</td>\n",
       "      <td>NaN</td>\n",
       "      <td>20대</td>\n",
       "      <td>134.62</td>\n",
       "      <td>1346</td>\n",
       "      <td>길음8골어린이공원 옆</td>\n",
       "      <td>2019-10-03 오전 1:15:39</td>\n",
       "      <td>SPB-14181</td>\n",
       "      <td>1.21</td>\n",
       "      <td>5230</td>\n",
       "      <td>24</td>\n",
       "    </tr>\n",
       "    <tr>\n",
       "      <th>4</th>\n",
       "      <td>2019-10-03</td>\n",
       "      <td>0</td>\n",
       "      <td>633</td>\n",
       "      <td>633. 청량리 기업은행 앞</td>\n",
       "      <td>정기권</td>\n",
       "      <td>NaN</td>\n",
       "      <td>20대</td>\n",
       "      <td>85.83</td>\n",
       "      <td>568</td>\n",
       "      <td>청계8가사거리 부근</td>\n",
       "      <td>2019-10-03 오전 12:17:58</td>\n",
       "      <td>SPB-15221</td>\n",
       "      <td>0.67</td>\n",
       "      <td>2890</td>\n",
       "      <td>11</td>\n",
       "    </tr>\n",
       "    <tr>\n",
       "      <th>5</th>\n",
       "      <td>2019-10-03</td>\n",
       "      <td>0</td>\n",
       "      <td>914</td>\n",
       "      <td>914. 새절역 2번출구</td>\n",
       "      <td>정기권</td>\n",
       "      <td>NaN</td>\n",
       "      <td>20대</td>\n",
       "      <td>15.68</td>\n",
       "      <td>912</td>\n",
       "      <td>응암오거리</td>\n",
       "      <td>2019-10-03 오전 12:16:20</td>\n",
       "      <td>SPB-04117</td>\n",
       "      <td>0.15</td>\n",
       "      <td>660</td>\n",
       "      <td>5</td>\n",
       "    </tr>\n",
       "    <tr>\n",
       "      <th>6</th>\n",
       "      <td>2019-10-03</td>\n",
       "      <td>0</td>\n",
       "      <td>926</td>\n",
       "      <td>926. 불광역 8번출구</td>\n",
       "      <td>정기권</td>\n",
       "      <td>NaN</td>\n",
       "      <td>20대</td>\n",
       "      <td>30.37</td>\n",
       "      <td>946</td>\n",
       "      <td>독바위역</td>\n",
       "      <td>2019-10-03 오전 1:06:17</td>\n",
       "      <td>SPB-12724</td>\n",
       "      <td>0.27</td>\n",
       "      <td>1180</td>\n",
       "      <td>7</td>\n",
       "    </tr>\n",
       "    <tr>\n",
       "      <th>7</th>\n",
       "      <td>2019-10-03</td>\n",
       "      <td>0</td>\n",
       "      <td>212</td>\n",
       "      <td>212. 여의도역 1번출구 옆</td>\n",
       "      <td>정기권</td>\n",
       "      <td>NaN</td>\n",
       "      <td>20대</td>\n",
       "      <td>29.89</td>\n",
       "      <td>216</td>\n",
       "      <td>삼부아파트1동 앞</td>\n",
       "      <td>2019-10-03 오전 12:36:38</td>\n",
       "      <td>SPB-20323</td>\n",
       "      <td>0.26</td>\n",
       "      <td>1110</td>\n",
       "      <td>6</td>\n",
       "    </tr>\n",
       "    <tr>\n",
       "      <th>8</th>\n",
       "      <td>2019-10-03</td>\n",
       "      <td>0</td>\n",
       "      <td>421</td>\n",
       "      <td>421. 마포구청 앞</td>\n",
       "      <td>정기권</td>\n",
       "      <td>NaN</td>\n",
       "      <td>20대</td>\n",
       "      <td>46.76</td>\n",
       "      <td>152</td>\n",
       "      <td>마포구민체육센터 앞</td>\n",
       "      <td>2019-10-03 오전 12:42:31</td>\n",
       "      <td>SPB-05679</td>\n",
       "      <td>0.38</td>\n",
       "      <td>1640</td>\n",
       "      <td>11</td>\n",
       "    </tr>\n",
       "    <tr>\n",
       "      <th>9</th>\n",
       "      <td>2019-10-03</td>\n",
       "      <td>0</td>\n",
       "      <td>108</td>\n",
       "      <td>108. 서교동 사거리</td>\n",
       "      <td>정기권</td>\n",
       "      <td>NaN</td>\n",
       "      <td>30대</td>\n",
       "      <td>44.52</td>\n",
       "      <td>151</td>\n",
       "      <td>망원1동주민센터</td>\n",
       "      <td>2019-10-03 오전 12:39:41</td>\n",
       "      <td>SPB-18038</td>\n",
       "      <td>0.34</td>\n",
       "      <td>1460</td>\n",
       "      <td>7</td>\n",
       "    </tr>\n",
       "  </tbody>\n",
       "</table>\n",
       "</div>"
      ],
      "text/plain": [
       "     Date_out  Time_out  Station_no_out           Station_out Membership_type  \\\n",
       "0  2019-10-03         0             129  129. 신촌역(2호선) 6번출구 옆             정기권   \n",
       "1  2019-10-03         0             150      150. 서강대역 2번출구 앞             정기권   \n",
       "2  2019-10-03         0             240       240. 문래역 4번출구 앞             정기권   \n",
       "3  2019-10-03         0             623       623. 서울시립대 정문 앞             정기권   \n",
       "4  2019-10-03         0             633       633. 청량리 기업은행 앞             정기권   \n",
       "5  2019-10-03         0             914         914. 새절역 2번출구             정기권   \n",
       "6  2019-10-03         0             926         926. 불광역 8번출구             정기권   \n",
       "7  2019-10-03         0             212      212. 여의도역 1번출구 옆             정기권   \n",
       "8  2019-10-03         0             421           421. 마포구청 앞             정기권   \n",
       "9  2019-10-03         0             108          108. 서교동 사거리             정기권   \n",
       "\n",
       "  Gender Age_Group Momentum  Station_no_in   Station_in  \\\n",
       "0    NaN      ~10대    28.27            122     신성기사식당 앞   \n",
       "1    NaN       20대   146.46           2065    서울시여성가족재단   \n",
       "2    NaN       20대    37.13            245  삼성생명 당산사옥 앞   \n",
       "3    NaN       20대   134.62           1346  길음8골어린이공원 옆   \n",
       "4    NaN       20대    85.83            568   청계8가사거리 부근   \n",
       "5    NaN       20대    15.68            912        응암오거리   \n",
       "6    NaN       20대    30.37            946         독바위역   \n",
       "7    NaN       20대    29.89            216    삼부아파트1동 앞   \n",
       "8    NaN       20대    46.76            152   마포구민체육센터 앞   \n",
       "9    NaN       30대    44.52            151     망원1동주민센터   \n",
       "\n",
       "                  Date_in    Bike_no Carbon_amount  Distance  Duration  \n",
       "0  2019-10-03 오전 12:20:42  SPB-15000          0.24      1050         5  \n",
       "1   2019-10-03 오전 1:16:32  SPB-13087          1.32      5690        32  \n",
       "2  2019-10-03 오전 12:18:21  SPB-23229          0.29      1250        10  \n",
       "3   2019-10-03 오전 1:15:39  SPB-14181          1.21      5230        24  \n",
       "4  2019-10-03 오전 12:17:58  SPB-15221          0.67      2890        11  \n",
       "5  2019-10-03 오전 12:16:20  SPB-04117          0.15       660         5  \n",
       "6   2019-10-03 오전 1:06:17  SPB-12724          0.27      1180         7  \n",
       "7  2019-10-03 오전 12:36:38  SPB-20323          0.26      1110         6  \n",
       "8  2019-10-03 오전 12:42:31  SPB-05679          0.38      1640        11  \n",
       "9  2019-10-03 오전 12:39:41  SPB-18038          0.34      1460         7  "
      ]
     },
     "execution_count": 8,
     "metadata": {},
     "output_type": "execute_result"
    }
   ],
   "source": [
    "bike_data.head(10)"
   ]
  },
  {
   "cell_type": "code",
   "execution_count": 9,
   "id": "e58c805f",
   "metadata": {},
   "outputs": [
    {
     "data": {
      "text/html": [
       "<div>\n",
       "<style scoped>\n",
       "    .dataframe tbody tr th:only-of-type {\n",
       "        vertical-align: middle;\n",
       "    }\n",
       "\n",
       "    .dataframe tbody tr th {\n",
       "        vertical-align: top;\n",
       "    }\n",
       "\n",
       "    .dataframe thead th {\n",
       "        text-align: right;\n",
       "    }\n",
       "</style>\n",
       "<table border=\"1\" class=\"dataframe\">\n",
       "  <thead>\n",
       "    <tr style=\"text-align: right;\">\n",
       "      <th></th>\n",
       "      <th>Date_out</th>\n",
       "      <th>Time_out</th>\n",
       "      <th>Station_no_out</th>\n",
       "      <th>Station_out</th>\n",
       "      <th>Membership_type</th>\n",
       "      <th>Gender</th>\n",
       "      <th>Age_Group</th>\n",
       "      <th>Momentum</th>\n",
       "      <th>Station_no_in</th>\n",
       "      <th>Station_in</th>\n",
       "      <th>Date_in</th>\n",
       "      <th>Bike_no</th>\n",
       "      <th>Carbon_amount</th>\n",
       "      <th>Distance</th>\n",
       "      <th>Duration</th>\n",
       "    </tr>\n",
       "  </thead>\n",
       "  <tbody>\n",
       "    <tr>\n",
       "      <th>36590</th>\n",
       "      <td>2019-10-05</td>\n",
       "      <td>23</td>\n",
       "      <td>130</td>\n",
       "      <td>130. 신촌역(2호선) 7번출구 앞</td>\n",
       "      <td>일일권</td>\n",
       "      <td>M</td>\n",
       "      <td>30대</td>\n",
       "      <td>110.06</td>\n",
       "      <td>432</td>\n",
       "      <td>마포중앙도서관</td>\n",
       "      <td>2019-10-06 오전 12:06:20</td>\n",
       "      <td>SPB-14263</td>\n",
       "      <td>0.9</td>\n",
       "      <td>3860</td>\n",
       "      <td>23</td>\n",
       "    </tr>\n",
       "    <tr>\n",
       "      <th>36591</th>\n",
       "      <td>2019-10-05</td>\n",
       "      <td>23</td>\n",
       "      <td>2215</td>\n",
       "      <td>2215. 반포종합운동장 입구</td>\n",
       "      <td>일일권</td>\n",
       "      <td>M</td>\n",
       "      <td>30대</td>\n",
       "      <td>153.15</td>\n",
       "      <td>2221</td>\n",
       "      <td>하나은행 방배동지점 앞</td>\n",
       "      <td>2019-10-06 오전 12:27:55</td>\n",
       "      <td>SPB-17557</td>\n",
       "      <td>1.38</td>\n",
       "      <td>5950</td>\n",
       "      <td>32</td>\n",
       "    </tr>\n",
       "    <tr>\n",
       "      <th>36592</th>\n",
       "      <td>2019-10-05</td>\n",
       "      <td>23</td>\n",
       "      <td>654</td>\n",
       "      <td>654. 전농동 텃골공원</td>\n",
       "      <td>일일권</td>\n",
       "      <td>M</td>\n",
       "      <td>40대</td>\n",
       "      <td>65.12</td>\n",
       "      <td>654</td>\n",
       "      <td>전농동 텃골공원</td>\n",
       "      <td>2019-10-06 오전 12:09:12</td>\n",
       "      <td>SPB-18226</td>\n",
       "      <td>0.59</td>\n",
       "      <td>2530</td>\n",
       "      <td>17</td>\n",
       "    </tr>\n",
       "    <tr>\n",
       "      <th>36593</th>\n",
       "      <td>2019-10-05</td>\n",
       "      <td>23</td>\n",
       "      <td>119</td>\n",
       "      <td>119. 서강나루 공원</td>\n",
       "      <td>일일권</td>\n",
       "      <td>M</td>\n",
       "      <td>40대</td>\n",
       "      <td>78.76</td>\n",
       "      <td>3102</td>\n",
       "      <td>연희삼거리</td>\n",
       "      <td>2019-10-05 오후 11:44:39</td>\n",
       "      <td>SPB-21624</td>\n",
       "      <td>0.71</td>\n",
       "      <td>3060</td>\n",
       "      <td>17</td>\n",
       "    </tr>\n",
       "    <tr>\n",
       "      <th>36594</th>\n",
       "      <td>2019-10-05</td>\n",
       "      <td>23</td>\n",
       "      <td>630</td>\n",
       "      <td>630. 동대문구 보건소</td>\n",
       "      <td>단체권</td>\n",
       "      <td>NaN</td>\n",
       "      <td>20대</td>\n",
       "      <td>22.83</td>\n",
       "      <td>660</td>\n",
       "      <td>동의보감타워</td>\n",
       "      <td>2019-10-05 오후 11:27:13</td>\n",
       "      <td>SPB-02538</td>\n",
       "      <td>0.14</td>\n",
       "      <td>620</td>\n",
       "      <td>5</td>\n",
       "    </tr>\n",
       "  </tbody>\n",
       "</table>\n",
       "</div>"
      ],
      "text/plain": [
       "         Date_out  Time_out  Station_no_out           Station_out  \\\n",
       "36590  2019-10-05        23             130  130. 신촌역(2호선) 7번출구 앞   \n",
       "36591  2019-10-05        23            2215      2215. 반포종합운동장 입구   \n",
       "36592  2019-10-05        23             654         654. 전농동 텃골공원   \n",
       "36593  2019-10-05        23             119          119. 서강나루 공원   \n",
       "36594  2019-10-05        23             630         630. 동대문구 보건소   \n",
       "\n",
       "      Membership_type Gender Age_Group Momentum  Station_no_in    Station_in  \\\n",
       "36590             일일권      M       30대   110.06            432       마포중앙도서관   \n",
       "36591             일일권      M       30대   153.15           2221  하나은행 방배동지점 앞   \n",
       "36592             일일권      M       40대    65.12            654      전농동 텃골공원   \n",
       "36593             일일권      M       40대    78.76           3102         연희삼거리   \n",
       "36594             단체권    NaN       20대    22.83            660        동의보감타워   \n",
       "\n",
       "                      Date_in    Bike_no Carbon_amount  Distance  Duration  \n",
       "36590  2019-10-06 오전 12:06:20  SPB-14263           0.9      3860        23  \n",
       "36591  2019-10-06 오전 12:27:55  SPB-17557          1.38      5950        32  \n",
       "36592  2019-10-06 오전 12:09:12  SPB-18226          0.59      2530        17  \n",
       "36593  2019-10-05 오후 11:44:39  SPB-21624          0.71      3060        17  \n",
       "36594  2019-10-05 오후 11:27:13  SPB-02538          0.14       620         5  "
      ]
     },
     "execution_count": 9,
     "metadata": {},
     "output_type": "execute_result"
    }
   ],
   "source": [
    "bike_data.tail()"
   ]
  },
  {
   "cell_type": "code",
   "execution_count": 10,
   "id": "c02951e5",
   "metadata": {},
   "outputs": [
    {
     "data": {
      "text/plain": [
       "(36595, 15)"
      ]
     },
     "execution_count": 10,
     "metadata": {},
     "output_type": "execute_result"
    }
   ],
   "source": [
    "bike_data.shape"
   ]
  },
  {
   "cell_type": "code",
   "execution_count": 11,
   "id": "981aa142",
   "metadata": {},
   "outputs": [
    {
     "name": "stdout",
     "output_type": "stream",
     "text": [
      "<class 'pandas.core.frame.DataFrame'>\n",
      "RangeIndex: 36595 entries, 0 to 36594\n",
      "Data columns (total 15 columns):\n",
      " #   Column           Non-Null Count  Dtype \n",
      "---  ------           --------------  ----- \n",
      " 0   Date_out         36595 non-null  object\n",
      " 1   Time_out         36595 non-null  int64 \n",
      " 2   Station_no_out   36595 non-null  int64 \n",
      " 3   Station_out      36595 non-null  object\n",
      " 4   Membership_type  36595 non-null  object\n",
      " 5   Gender           18262 non-null  object\n",
      " 6   Age_Group        36595 non-null  object\n",
      " 7   Momentum         36595 non-null  object\n",
      " 8   Station_no_in    36595 non-null  int64 \n",
      " 9   Station_in       36595 non-null  object\n",
      " 10  Date_in          36595 non-null  object\n",
      " 11  Bike_no          36595 non-null  object\n",
      " 12  Carbon_amount    36595 non-null  object\n",
      " 13  Distance         36595 non-null  int64 \n",
      " 14  Duration         36595 non-null  int64 \n",
      "dtypes: int64(5), object(10)\n",
      "memory usage: 4.2+ MB\n"
     ]
    }
   ],
   "source": [
    "bike_data.info()"
   ]
  },
  {
   "cell_type": "code",
   "execution_count": 12,
   "id": "50d0fce3",
   "metadata": {},
   "outputs": [
    {
     "name": "stderr",
     "output_type": "stream",
     "text": [
      "C:\\Users\\a0106\\AppData\\Local\\Temp\\ipykernel_18816\\2878048.py:1: FutureWarning: Dropping of nuisance columns in DataFrame reductions (with 'numeric_only=None') is deprecated; in a future version this will raise TypeError.  Select only valid columns before calling the reduction.\n",
      "  bike_data.sum()\n"
     ]
    },
    {
     "data": {
      "text/plain": [
       "Date_out           2019-10-032019-10-032019-10-032019-10-032019-1...\n",
       "Time_out                                                      523993\n",
       "Station_no_out                                              27733794\n",
       "Station_out        129. 신촌역(2호선) 6번출구 옆150. 서강대역 2번출구 앞240. 문래역 4...\n",
       "Membership_type    정기권정기권정기권정기권정기권정기권정기권정기권정기권정기권정기권정기권정기권정기권정기권정...\n",
       "Age_Group          ~10대20대20대20대20대20대20대20대20대30대30대30대30대30대30대...\n",
       "Momentum           28.27146.4637.13134.6285.8315.6830.3729.8946.7...\n",
       "Station_no_in                                               32412858\n",
       "Station_in         신성기사식당 앞서울시여성가족재단삼성생명 당산사옥 앞길음8골어린이공원 옆청계8가사거리...\n",
       "Date_in            2019-10-03 오전 12:20:422019-10-03 오전 1:16:32201...\n",
       "Bike_no            SPB-15000SPB-13087SPB-23229SPB-14181SPB-15221S...\n",
       "Carbon_amount      0.241.320.291.210.670.150.270.260.380.340.190....\n",
       "Distance                                                   154185430\n",
       "Duration                                                     1135191\n",
       "dtype: object"
      ]
     },
     "execution_count": 12,
     "metadata": {},
     "output_type": "execute_result"
    }
   ],
   "source": [
    "bike_data.sum()"
   ]
  },
  {
   "cell_type": "code",
   "execution_count": 13,
   "id": "f9b2f3ed",
   "metadata": {},
   "outputs": [
    {
     "data": {
      "text/plain": [
       "0        1050\n",
       "1        5690\n",
       "2        1250\n",
       "3        5230\n",
       "4        2890\n",
       "         ... \n",
       "36590    3860\n",
       "36591    5950\n",
       "36592    2530\n",
       "36593    3060\n",
       "36594     620\n",
       "Name: Distance, Length: 36595, dtype: int64"
      ]
     },
     "execution_count": 13,
     "metadata": {},
     "output_type": "execute_result"
    }
   ],
   "source": [
    "bike_data.Distance"
   ]
  },
  {
   "cell_type": "code",
   "execution_count": 14,
   "id": "d78fdff9",
   "metadata": {},
   "outputs": [
    {
     "data": {
      "text/plain": [
       "154185430"
      ]
     },
     "execution_count": 14,
     "metadata": {},
     "output_type": "execute_result"
    }
   ],
   "source": [
    "bike_data.Distance.sum()"
   ]
  },
  {
   "cell_type": "code",
   "execution_count": 15,
   "id": "b56de173",
   "metadata": {},
   "outputs": [
    {
     "data": {
      "text/plain": [
       "0        1050\n",
       "1        5690\n",
       "2        1250\n",
       "3        5230\n",
       "4        2890\n",
       "         ... \n",
       "36590    3860\n",
       "36591    5950\n",
       "36592    2530\n",
       "36593    3060\n",
       "36594     620\n",
       "Name: Distance, Length: 36595, dtype: int64"
      ]
     },
     "execution_count": 15,
     "metadata": {},
     "output_type": "execute_result"
    }
   ],
   "source": [
    "bike_data['Distance']"
   ]
  },
  {
   "cell_type": "code",
   "execution_count": 16,
   "id": "11f7aec1",
   "metadata": {},
   "outputs": [
    {
     "data": {
      "text/plain": [
       "154185430"
      ]
     },
     "execution_count": 16,
     "metadata": {},
     "output_type": "execute_result"
    }
   ],
   "source": [
    "bike_data['Distance'].sum()"
   ]
  },
  {
   "cell_type": "code",
   "execution_count": 17,
   "id": "53f90b07",
   "metadata": {},
   "outputs": [
    {
     "data": {
      "text/plain": [
       "array(['정기권', '일일권', '단체권', '일일권(비회원)'], dtype=object)"
      ]
     },
     "execution_count": 17,
     "metadata": {},
     "output_type": "execute_result"
    }
   ],
   "source": [
    "bike_data['Membership_type'].unique()"
   ]
  },
  {
   "cell_type": "code",
   "execution_count": 18,
   "id": "1f56af81",
   "metadata": {},
   "outputs": [
    {
     "data": {
      "text/plain": [
       "정기권         27501\n",
       "일일권          8957\n",
       "단체권           135\n",
       "일일권(비회원)        2\n",
       "Name: Membership_type, dtype: int64"
      ]
     },
     "execution_count": 18,
     "metadata": {},
     "output_type": "execute_result"
    }
   ],
   "source": [
    "bike_data['Membership_type'].value_counts()"
   ]
  },
  {
   "cell_type": "code",
   "execution_count": 19,
   "id": "44285129",
   "metadata": {},
   "outputs": [
    {
     "data": {
      "text/plain": [
       "정기권         0.751496\n",
       "일일권         0.244760\n",
       "단체권         0.003689\n",
       "일일권(비회원)    0.000055\n",
       "Name: Membership_type, dtype: float64"
      ]
     },
     "execution_count": 19,
     "metadata": {},
     "output_type": "execute_result"
    }
   ],
   "source": [
    "bike_data['Membership_type'].value_counts(normalize=True)"
   ]
  },
  {
   "cell_type": "code",
   "execution_count": 20,
   "id": "9ca00b13",
   "metadata": {},
   "outputs": [
    {
     "name": "stdout",
     "output_type": "stream",
     "text": [
      "<class 'pandas.core.frame.DataFrame'>\n",
      "RangeIndex: 36595 entries, 0 to 36594\n",
      "Data columns (total 15 columns):\n",
      " #   Column           Non-Null Count  Dtype \n",
      "---  ------           --------------  ----- \n",
      " 0   Date_out         36595 non-null  object\n",
      " 1   Time_out         36595 non-null  int64 \n",
      " 2   Station_no_out   36595 non-null  int64 \n",
      " 3   Station_out      36595 non-null  object\n",
      " 4   Membership_type  36595 non-null  object\n",
      " 5   Gender           18262 non-null  object\n",
      " 6   Age_Group        36595 non-null  object\n",
      " 7   Momentum         36595 non-null  object\n",
      " 8   Station_no_in    36595 non-null  int64 \n",
      " 9   Station_in       36595 non-null  object\n",
      " 10  Date_in          36595 non-null  object\n",
      " 11  Bike_no          36595 non-null  object\n",
      " 12  Carbon_amount    36595 non-null  object\n",
      " 13  Distance         36595 non-null  int64 \n",
      " 14  Duration         36595 non-null  int64 \n",
      "dtypes: int64(5), object(10)\n",
      "memory usage: 4.2+ MB\n"
     ]
    }
   ],
   "source": [
    "bike_data.info()"
   ]
  },
  {
   "cell_type": "code",
   "execution_count": 22,
   "id": "b96a1b1b",
   "metadata": {},
   "outputs": [
    {
     "data": {
      "text/plain": [
       "0"
      ]
     },
     "execution_count": 22,
     "metadata": {},
     "output_type": "execute_result"
    }
   ],
   "source": [
    "bike_data.Momentum.isnull().sum()"
   ]
  },
  {
   "cell_type": "code",
   "execution_count": 23,
   "id": "62c3fa6f",
   "metadata": {},
   "outputs": [
    {
     "data": {
      "text/plain": [
       "'0'"
      ]
     },
     "execution_count": 23,
     "metadata": {},
     "output_type": "execute_result"
    }
   ],
   "source": [
    "bike_data.Momentum.min()"
   ]
  },
  {
   "cell_type": "code",
   "execution_count": 24,
   "id": "8075eadb",
   "metadata": {},
   "outputs": [
    {
     "data": {
      "text/plain": [
       "'\\\\N'"
      ]
     },
     "execution_count": 24,
     "metadata": {},
     "output_type": "execute_result"
    }
   ],
   "source": [
    "bike_data.Momentum.max()"
   ]
  },
  {
   "cell_type": "code",
   "execution_count": 25,
   "id": "90a2b6a5",
   "metadata": {},
   "outputs": [
    {
     "data": {
      "text/html": [
       "<div>\n",
       "<style scoped>\n",
       "    .dataframe tbody tr th:only-of-type {\n",
       "        vertical-align: middle;\n",
       "    }\n",
       "\n",
       "    .dataframe tbody tr th {\n",
       "        vertical-align: top;\n",
       "    }\n",
       "\n",
       "    .dataframe thead th {\n",
       "        text-align: right;\n",
       "    }\n",
       "</style>\n",
       "<table border=\"1\" class=\"dataframe\">\n",
       "  <thead>\n",
       "    <tr style=\"text-align: right;\">\n",
       "      <th></th>\n",
       "      <th>Date_out</th>\n",
       "      <th>Time_out</th>\n",
       "      <th>Station_no_out</th>\n",
       "      <th>Station_out</th>\n",
       "      <th>Membership_type</th>\n",
       "      <th>Gender</th>\n",
       "      <th>Age_Group</th>\n",
       "      <th>Momentum</th>\n",
       "      <th>Station_no_in</th>\n",
       "      <th>Station_in</th>\n",
       "      <th>Date_in</th>\n",
       "      <th>Bike_no</th>\n",
       "      <th>Carbon_amount</th>\n",
       "      <th>Distance</th>\n",
       "      <th>Duration</th>\n",
       "    </tr>\n",
       "  </thead>\n",
       "  <tbody>\n",
       "    <tr>\n",
       "      <th>3347</th>\n",
       "      <td>2019-10-03</td>\n",
       "      <td>14</td>\n",
       "      <td>113</td>\n",
       "      <td>113. 홍대입구역 2번출구 앞</td>\n",
       "      <td>정기권</td>\n",
       "      <td>F</td>\n",
       "      <td>30대</td>\n",
       "      <td>\\N</td>\n",
       "      <td>113</td>\n",
       "      <td>홍대입구역 2번출구 앞</td>\n",
       "      <td>2019-10-03 오후 7:56:30</td>\n",
       "      <td>SPB-19656</td>\n",
       "      <td>\\N</td>\n",
       "      <td>0</td>\n",
       "      <td>2</td>\n",
       "    </tr>\n",
       "    <tr>\n",
       "      <th>14547</th>\n",
       "      <td>2019-10-04</td>\n",
       "      <td>10</td>\n",
       "      <td>203</td>\n",
       "      <td>203. 국회의사당역 3번출구 옆</td>\n",
       "      <td>정기권</td>\n",
       "      <td>F</td>\n",
       "      <td>70대~</td>\n",
       "      <td>\\N</td>\n",
       "      <td>214</td>\n",
       "      <td>금융감독원 앞</td>\n",
       "      <td>2019-10-04 오전 8:41:49</td>\n",
       "      <td>SPB-14566</td>\n",
       "      <td>\\N</td>\n",
       "      <td>0</td>\n",
       "      <td>5</td>\n",
       "    </tr>\n",
       "    <tr>\n",
       "      <th>15697</th>\n",
       "      <td>2019-10-04</td>\n",
       "      <td>12</td>\n",
       "      <td>211</td>\n",
       "      <td>211. 여의도역 4번출구 옆</td>\n",
       "      <td>정기권</td>\n",
       "      <td>M</td>\n",
       "      <td>20대</td>\n",
       "      <td>\\N</td>\n",
       "      <td>217</td>\n",
       "      <td>NH농협은행 앞</td>\n",
       "      <td>2019-10-04 오전 10:00:22</td>\n",
       "      <td>SPB-05742</td>\n",
       "      <td>\\N</td>\n",
       "      <td>0</td>\n",
       "      <td>5</td>\n",
       "    </tr>\n",
       "    <tr>\n",
       "      <th>20683</th>\n",
       "      <td>2019-10-04</td>\n",
       "      <td>19</td>\n",
       "      <td>238</td>\n",
       "      <td>238. 제2구민체육센타 앞</td>\n",
       "      <td>정기권</td>\n",
       "      <td>NaN</td>\n",
       "      <td>20대</td>\n",
       "      <td>\\N</td>\n",
       "      <td>238</td>\n",
       "      <td>제2구민체육센타 앞</td>\n",
       "      <td>2019-10-04 오후 8:34:07</td>\n",
       "      <td>SPB-18370</td>\n",
       "      <td>\\N</td>\n",
       "      <td>0</td>\n",
       "      <td>3</td>\n",
       "    </tr>\n",
       "    <tr>\n",
       "      <th>25700</th>\n",
       "      <td>2019-10-05</td>\n",
       "      <td>3</td>\n",
       "      <td>2259</td>\n",
       "      <td>2259. 잠원역 3번-4번 출구사이</td>\n",
       "      <td>정기권</td>\n",
       "      <td>NaN</td>\n",
       "      <td>40대</td>\n",
       "      <td>\\N</td>\n",
       "      <td>2217</td>\n",
       "      <td>아크로리버뷰 부지 앞</td>\n",
       "      <td>2019-10-05 오후 9:23:46</td>\n",
       "      <td>SPB-03337</td>\n",
       "      <td>\\N</td>\n",
       "      <td>0</td>\n",
       "      <td>7</td>\n",
       "    </tr>\n",
       "    <tr>\n",
       "      <th>27995</th>\n",
       "      <td>2019-10-05</td>\n",
       "      <td>11</td>\n",
       "      <td>274</td>\n",
       "      <td>274. 영등포역지하쇼핑센타 5번출구</td>\n",
       "      <td>정기권</td>\n",
       "      <td>NaN</td>\n",
       "      <td>40대</td>\n",
       "      <td>\\N</td>\n",
       "      <td>279</td>\n",
       "      <td>영등포 푸르지오 아파트</td>\n",
       "      <td>2019-10-05 오후 10:03:10</td>\n",
       "      <td>SPB-15669</td>\n",
       "      <td>\\N</td>\n",
       "      <td>0</td>\n",
       "      <td>10</td>\n",
       "    </tr>\n",
       "    <tr>\n",
       "      <th>30112</th>\n",
       "      <td>2019-10-05</td>\n",
       "      <td>14</td>\n",
       "      <td>437</td>\n",
       "      <td>437. 대흥역 1번출구</td>\n",
       "      <td>정기권</td>\n",
       "      <td>M</td>\n",
       "      <td>30대</td>\n",
       "      <td>\\N</td>\n",
       "      <td>135</td>\n",
       "      <td>명물길 원형무대 앞</td>\n",
       "      <td>2019-10-05 오후 10:55:50</td>\n",
       "      <td>SPB-17475</td>\n",
       "      <td>\\N</td>\n",
       "      <td>0</td>\n",
       "      <td>10</td>\n",
       "    </tr>\n",
       "    <tr>\n",
       "      <th>32978</th>\n",
       "      <td>2019-10-05</td>\n",
       "      <td>18</td>\n",
       "      <td>274</td>\n",
       "      <td>274. 영등포역지하쇼핑센타 5번출구</td>\n",
       "      <td>정기권</td>\n",
       "      <td>F</td>\n",
       "      <td>20대</td>\n",
       "      <td>\\N</td>\n",
       "      <td>274</td>\n",
       "      <td>영등포역지하쇼핑센타 5번출구</td>\n",
       "      <td>2019-10-05 오후 3:46:34</td>\n",
       "      <td>SPB-16977</td>\n",
       "      <td>\\N</td>\n",
       "      <td>0</td>\n",
       "      <td>7</td>\n",
       "    </tr>\n",
       "    <tr>\n",
       "      <th>34459</th>\n",
       "      <td>2019-10-05</td>\n",
       "      <td>20</td>\n",
       "      <td>146</td>\n",
       "      <td>146. 마포역 2번출구 뒤</td>\n",
       "      <td>정기권</td>\n",
       "      <td>F</td>\n",
       "      <td>20대</td>\n",
       "      <td>\\N</td>\n",
       "      <td>109</td>\n",
       "      <td>제일빌딩 앞</td>\n",
       "      <td>2019-10-05 오후 8:21:07</td>\n",
       "      <td>SPB-18232</td>\n",
       "      <td>\\N</td>\n",
       "      <td>0</td>\n",
       "      <td>19</td>\n",
       "    </tr>\n",
       "  </tbody>\n",
       "</table>\n",
       "</div>"
      ],
      "text/plain": [
       "         Date_out  Time_out  Station_no_out            Station_out  \\\n",
       "3347   2019-10-03        14             113      113. 홍대입구역 2번출구 앞   \n",
       "14547  2019-10-04        10             203     203. 국회의사당역 3번출구 옆   \n",
       "15697  2019-10-04        12             211       211. 여의도역 4번출구 옆   \n",
       "20683  2019-10-04        19             238        238. 제2구민체육센타 앞   \n",
       "25700  2019-10-05         3            2259  2259. 잠원역 3번-4번 출구사이    \n",
       "27995  2019-10-05        11             274   274. 영등포역지하쇼핑센타 5번출구   \n",
       "30112  2019-10-05        14             437          437. 대흥역 1번출구   \n",
       "32978  2019-10-05        18             274   274. 영등포역지하쇼핑센타 5번출구   \n",
       "34459  2019-10-05        20             146        146. 마포역 2번출구 뒤   \n",
       "\n",
       "      Membership_type Gender Age_Group Momentum  Station_no_in  \\\n",
       "3347              정기권      F       30대       \\N            113   \n",
       "14547             정기권      F      70대~       \\N            214   \n",
       "15697             정기권      M       20대       \\N            217   \n",
       "20683             정기권    NaN       20대       \\N            238   \n",
       "25700             정기권    NaN       40대       \\N           2217   \n",
       "27995             정기권    NaN       40대       \\N            279   \n",
       "30112             정기권      M       30대       \\N            135   \n",
       "32978             정기권      F       20대       \\N            274   \n",
       "34459             정기권      F       20대       \\N            109   \n",
       "\n",
       "            Station_in                 Date_in    Bike_no Carbon_amount  \\\n",
       "3347      홍대입구역 2번출구 앞   2019-10-03 오후 7:56:30  SPB-19656            \\N   \n",
       "14547          금융감독원 앞   2019-10-04 오전 8:41:49  SPB-14566            \\N   \n",
       "15697         NH농협은행 앞  2019-10-04 오전 10:00:22  SPB-05742            \\N   \n",
       "20683       제2구민체육센타 앞   2019-10-04 오후 8:34:07  SPB-18370            \\N   \n",
       "25700      아크로리버뷰 부지 앞   2019-10-05 오후 9:23:46  SPB-03337            \\N   \n",
       "27995     영등포 푸르지오 아파트  2019-10-05 오후 10:03:10  SPB-15669            \\N   \n",
       "30112       명물길 원형무대 앞  2019-10-05 오후 10:55:50  SPB-17475            \\N   \n",
       "32978  영등포역지하쇼핑센타 5번출구   2019-10-05 오후 3:46:34  SPB-16977            \\N   \n",
       "34459           제일빌딩 앞   2019-10-05 오후 8:21:07  SPB-18232            \\N   \n",
       "\n",
       "       Distance  Duration  \n",
       "3347          0         2  \n",
       "14547         0         5  \n",
       "15697         0         5  \n",
       "20683         0         3  \n",
       "25700         0         7  \n",
       "27995         0        10  \n",
       "30112         0        10  \n",
       "32978         0         7  \n",
       "34459         0        19  "
      ]
     },
     "execution_count": 25,
     "metadata": {},
     "output_type": "execute_result"
    }
   ],
   "source": [
    "bike_data[bike_data.Momentum == '\\\\N']"
   ]
  },
  {
   "cell_type": "code",
   "execution_count": null,
   "id": "145a854a",
   "metadata": {},
   "outputs": [],
   "source": []
  }
 ],
 "metadata": {
  "kernelspec": {
   "display_name": "Python 3 (ipykernel)",
   "language": "python",
   "name": "python3"
  },
  "language_info": {
   "codemirror_mode": {
    "name": "ipython",
    "version": 3
   },
   "file_extension": ".py",
   "mimetype": "text/x-python",
   "name": "python",
   "nbconvert_exporter": "python",
   "pygments_lexer": "ipython3",
   "version": "3.9.13"
  }
 },
 "nbformat": 4,
 "nbformat_minor": 5
}
